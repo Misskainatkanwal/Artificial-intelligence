{
 "cells": [
  {
   "cell_type": "code",
   "execution_count": 10,
   "id": "8975b9aa-a01f-4e9b-b344-9130e18a7814",
   "metadata": {},
   "outputs": [
    {
     "name": "stdout",
     "output_type": "stream",
     "text": [
      "Outliers: [100]\n"
     ]
    }
   ],
   "source": [
    "import numpy as np\n",
    "\n",
    "data = [10, 12, 12, 13, 13, 14, 14, 15, 100]\n",
    "q1 = np.percentile(data, 25)\n",
    "q3 = np.percentile(data, 75)\n",
    "iqr = q3 - q1\n",
    "\n",
    "threshold = 1.5  # You can change this\n",
    "lower_bound = q1 - threshold * iqr\n",
    "upper_bound = q3 + threshold * iqr\n",
    "\n",
    "outliers = [x for x in data if x < lower_bound or x > upper_bound]\n",
    "print(\"Outliers:\", outliers)\n",
    "\n"
   ]
  },
  {
   "cell_type": "code",
   "execution_count": 13,
   "id": "93d56591-d89c-4233-af9f-d83a3984c296",
   "metadata": {},
   "outputs": [
    {
     "data": {
      "text/plain": [
       "[135]"
      ]
     },
     "execution_count": 13,
     "metadata": {},
     "output_type": "execute_result"
    }
   ],
   "source": [
    "data = [25, 30, 120, 135, 50]\n",
    "threshold_min = 0\n",
    "threshold_max = 120\n",
    "outliers = [x for x in data if x < threshold_min or x > threshold_max]\n",
    "outliers"
   ]
  },
  {
   "cell_type": "code",
   "execution_count": null,
   "id": "1313a142-385f-4423-80dc-212961bdda30",
   "metadata": {},
   "outputs": [],
   "source": []
  },
  {
   "cell_type": "code",
   "execution_count": null,
   "id": "31eae52f-ca5a-4448-86c4-923b353a6f15",
   "metadata": {},
   "outputs": [],
   "source": []
  },
  {
   "cell_type": "code",
   "execution_count": null,
   "id": "d95c475f-ce90-463b-bde6-38c90148e6e4",
   "metadata": {},
   "outputs": [],
   "source": []
  },
  {
   "cell_type": "code",
   "execution_count": null,
   "id": "530b97cd-cce1-4065-8ec5-3fd511e0623b",
   "metadata": {},
   "outputs": [],
   "source": []
  }
 ],
 "metadata": {
  "kernelspec": {
   "display_name": "Python 3 (ipykernel)",
   "language": "python",
   "name": "python3"
  },
  "language_info": {
   "codemirror_mode": {
    "name": "ipython",
    "version": 3
   },
   "file_extension": ".py",
   "mimetype": "text/x-python",
   "name": "python",
   "nbconvert_exporter": "python",
   "pygments_lexer": "ipython3",
   "version": "3.13.2"
  }
 },
 "nbformat": 4,
 "nbformat_minor": 5
}
